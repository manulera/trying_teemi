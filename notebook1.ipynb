{
 "cells": [
  {
   "cell_type": "code",
   "execution_count": 2,
   "metadata": {},
   "outputs": [],
   "source": [
    "# Load sequences\n",
    "from teemi.design.fetch_sequences import read_genbank_files\n",
    "path = 'data/04-genetic_parts/G8H_CYP_CPR_PARTS/'\n",
    "# Load 4 plasmids with promoters\n",
    "pCPR_sites = read_genbank_files(path+'CPR_promoters_-_2022-06-06.gb')\n",
    "# Load 10 main sequences\n",
    "CPR_sites = read_genbank_files(path+'CPR_tCYC1_-_2022-06-06.gb')"
   ]
  },
  {
   "cell_type": "code",
   "execution_count": 6,
   "metadata": {},
   "outputs": [],
   "source": [
    "# Convert them to Dseqrecord objects, I guess they should be circular\n",
    "from pydna.dseqrecord import Dseqrecord\n",
    "pCPR_sites = [Dseqrecord(seq, circular=True) for seq in pCPR_sites]\n",
    "CPR_sites = [Dseqrecord(seq, circular=True) for seq in CPR_sites]\n",
    "\n",
    "# We arrange them in a list of the things we want to combine:\n",
    "list_of_seqs = [pCPR_sites, CPR_sites]"
   ]
  },
  {
   "cell_type": "code",
   "execution_count": null,
   "metadata": {},
   "outputs": [],
   "source": [
    "# Assembly\n",
    "from teemi.design.combinatorial_design import DesignAssembly\n",
    "# This will be used as a Kozak sequence (Ribosome recognition site)\n",
    "kozak = [Dseqrecord('TCGGTC')]\n",
    "\n",
    "\n"
   ]
  }
 ],
 "metadata": {
  "kernelspec": {
   "display_name": ".venv",
   "language": "python",
   "name": "python3"
  },
  "language_info": {
   "codemirror_mode": {
    "name": "ipython",
    "version": 3
   },
   "file_extension": ".py",
   "mimetype": "text/x-python",
   "name": "python",
   "nbconvert_exporter": "python",
   "pygments_lexer": "ipython3",
   "version": "3.9.7"
  }
 },
 "nbformat": 4,
 "nbformat_minor": 2
}
